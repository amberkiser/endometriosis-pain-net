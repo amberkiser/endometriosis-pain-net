{
 "cells": [
  {
   "cell_type": "code",
   "execution_count": 1,
   "metadata": {},
   "outputs": [],
   "source": [
    "import pandas as pd\n",
    "import re\n",
    "import numpy as np\n",
    "from scipy.spatial import distance"
   ]
  },
  {
   "cell_type": "markdown",
   "metadata": {},
   "source": [
    "# Clustering Distance Matrix\n",
    "Find Jaccard distances between all pain map areas.\n",
    "\n",
    "Use R package DECIPHER to cluster using neighbor-joining algorithm."
   ]
  },
  {
   "cell_type": "code",
   "execution_count": 2,
   "metadata": {},
   "outputs": [],
   "source": [
    "pain_data = pd.read_csv('../data/painful_area_data.csv')\n",
    "X_transposed = pain_data.transpose()"
   ]
  },
  {
   "cell_type": "code",
   "execution_count": 3,
   "metadata": {},
   "outputs": [],
   "source": [
    "# Create a Jaccard distance matrix\n",
    "areas = X_transposed.index\n",
    "Jaccard_distance = pd.DataFrame(columns=areas, index=areas)\n",
    "for a1 in areas:\n",
    "    for a2 in areas:\n",
    "        row1 = X_transposed.loc[X_transposed.index == a1]\n",
    "        row2 = X_transposed.loc[X_transposed.index == a2]\n",
    "        jd = distance.jaccard(row1, row2)\n",
    "        \n",
    "        Jaccard_distance.loc[Jaccard_distance.index == a2, a1] = jd\n",
    "# Jaccard_distance.to_csv('../results/clustering/jaccard_distance_painful_areas.csv')"
   ]
  },
  {
   "cell_type": "code",
   "execution_count": null,
   "metadata": {},
   "outputs": [],
   "source": []
  }
 ],
 "metadata": {
  "kernelspec": {
   "display_name": "Python 3",
   "language": "python",
   "name": "python3"
  },
  "language_info": {
   "codemirror_mode": {
    "name": "ipython",
    "version": 3
   },
   "file_extension": ".py",
   "mimetype": "text/x-python",
   "name": "python",
   "nbconvert_exporter": "python",
   "pygments_lexer": "ipython3",
   "version": "3.8.3"
  }
 },
 "nbformat": 4,
 "nbformat_minor": 4
}
