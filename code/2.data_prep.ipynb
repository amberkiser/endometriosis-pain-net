{
 "cells": [
  {
   "cell_type": "code",
   "execution_count": 1,
   "metadata": {},
   "outputs": [],
   "source": [
    "import pandas as pd\n",
    "import re\n",
    "import numpy as np"
   ]
  },
  {
   "cell_type": "markdown",
   "metadata": {},
   "source": [
    "# Data Prep\n",
    "Preparing dataset for Bayes net.\n",
    "\n",
    "<ul>\n",
    "    <li>Group according to NJ clustering.</li>\n",
    "    <li>Remove uninformative variables, with less than 5% positive response.</li>\n",
    "</ul>"
   ]
  },
  {
   "cell_type": "code",
   "execution_count": 2,
   "metadata": {},
   "outputs": [],
   "source": [
    "op_cohort = pd.read_csv('../data/op_cohort.csv')\n",
    "X_clusters = pd.read_csv('../results/clustering/nj_clustering.csv')"
   ]
  },
  {
   "cell_type": "code",
   "execution_count": 3,
   "metadata": {},
   "outputs": [],
   "source": [
    "# Group according to NJ clustering\n",
    "\n",
    "for i in range(1,16):\n",
    "    painful_areas = X_clusters.loc[X_clusters['cluster'] == i, 'painful_area'].values.tolist()\n",
    "    cluster_label = 'cluster_%d' % i\n",
    "    op_cohort[cluster_label] = op_cohort[painful_areas].sum(axis=1)\n",
    "    op_cohort.loc[op_cohort[cluster_label] > 0, cluster_label] = 1\n",
    "    \n",
    "painful_area_columns = [col for col in op_cohort.columns if re.search(r'^[F|B|P][0-9]', col)]\n",
    "op_cohort = op_cohort.drop(columns=painful_area_columns)"
   ]
  },
  {
   "cell_type": "code",
   "execution_count": 4,
   "metadata": {},
   "outputs": [],
   "source": [
    "# Remove uninformative variables\n",
    "\n",
    "threshold = int(np.floor(len(op_cohort.index) * 0.05))\n",
    "\n",
    "positive_responses = op_cohort.drop(columns=['final_diagnosis_DV']) > 0\n",
    "positive_responses = positive_responses.sum()\n",
    "columns_to_remove = positive_responses.loc[positive_responses < threshold].index\n",
    "op_cohort.drop(columns=columns_to_remove, inplace=True)\n",
    "op_cohort = op_cohort.astype(int)"
   ]
  },
  {
   "cell_type": "code",
   "execution_count": 5,
   "metadata": {},
   "outputs": [],
   "source": [
    "op_cohort.to_csv('../data/curated_pain_data.csv', index=False)"
   ]
  },
  {
   "cell_type": "code",
   "execution_count": null,
   "metadata": {},
   "outputs": [],
   "source": []
  }
 ],
 "metadata": {
  "kernelspec": {
   "display_name": "Python 3",
   "language": "python",
   "name": "python3"
  },
  "language_info": {
   "codemirror_mode": {
    "name": "ipython",
    "version": 3
   },
   "file_extension": ".py",
   "mimetype": "text/x-python",
   "name": "python",
   "nbconvert_exporter": "python",
   "pygments_lexer": "ipython3",
   "version": "3.8.3"
  }
 },
 "nbformat": 4,
 "nbformat_minor": 4
}
