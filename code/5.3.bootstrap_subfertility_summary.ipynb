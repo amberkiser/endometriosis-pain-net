{
 "cells": [
  {
   "cell_type": "code",
   "execution_count": null,
   "metadata": {},
   "outputs": [],
   "source": [
    "import pandas as pd\n",
    "import numpy as np\n",
    "from scipy import stats\n",
    "import seaborn as sns\n",
    "import matplotlib.pyplot as plt"
   ]
  },
  {
   "cell_type": "markdown",
   "metadata": {},
   "source": [
    "# Compile bootstrap results to get point estimates and confidence intervals\n",
    "For inverted analysis."
   ]
  },
  {
   "cell_type": "code",
   "execution_count": null,
   "metadata": {},
   "outputs": [],
   "source": [
    "bootstrap_probabilites = pd.read_csv('../results/sensitivity_analyses/bootstrap_subfertility.csv')\n",
    "\n",
    "prob_summary = pd.DataFrame()\n",
    "\n",
    "for dx in set(bootstrap_probabilites['diagnosis'].values):\n",
    "    for col in bootstrap_probabilites.drop(columns=['iteration', 'diagnosis']):\n",
    "        data = bootstrap_probabilites.loc[bootstrap_probabilites['diagnosis'] == dx, col].values\n",
    "\n",
    "        mean = np.mean(data)\n",
    "        se = stats.sem(data)\n",
    "\n",
    "        ci = stats.norm.interval(alpha=0.95, loc=mean, scale=se)\n",
    "\n",
    "        temp_prob = pd.DataFrame({'diagnosis': [dx],\n",
    "                                  'metric': [col],\n",
    "                                  'mean': [mean],\n",
    "                                  'se': [se],\n",
    "                                  'ci_low': [ci[0]],\n",
    "                                  'ci_high': [ci[1]]})\n",
    "        prob_summary = pd.concat([prob_summary, temp_prob])\n",
    "prob_summary.to_csv('../results/sensitivity_analyses/probabilities_summary_subfertility.csv', index=False)"
   ]
  },
  {
   "cell_type": "code",
   "execution_count": null,
   "metadata": {},
   "outputs": [],
   "source": [
    "# Forest plot of subfertility RR\n",
    "sns.set_style(\"white\")\n",
    "sns.set_context(\"poster\")\n",
    "\n",
    "bootstrap_probabilites.loc[bootstrap_probabilites['diagnosis'] == 'normal', 'sort_key'] = 5\n",
    "bootstrap_probabilites.loc[bootstrap_probabilites['diagnosis'] == 'endo', 'sort_key'] = 1\n",
    "bootstrap_probabilites.loc[bootstrap_probabilites['diagnosis'] == 'fibroids', 'sort_key'] = 3\n",
    "bootstrap_probabilites.loc[bootstrap_probabilites['diagnosis'] == 'cysts', 'sort_key'] = 4\n",
    "bootstrap_probabilites.loc[bootstrap_probabilites['diagnosis'] == 'other', 'sort_key'] = 2\n",
    "\n",
    "bootstrap_probabilites.loc[bootstrap_probabilites['diagnosis'] == 'normal', 'diagnosis'] = 'Normal Pelvis'\n",
    "bootstrap_probabilites.loc[bootstrap_probabilites['diagnosis'] == 'endo', 'diagnosis'] = 'Endometriosis'\n",
    "bootstrap_probabilites.loc[bootstrap_probabilites['diagnosis'] == 'fibroids', 'diagnosis'] = 'Uterine Fibroids'\n",
    "bootstrap_probabilites.loc[bootstrap_probabilites['diagnosis'] == 'cysts', 'diagnosis'] = 'Benign Ovarian Cysts'\n",
    "bootstrap_probabilites.loc[bootstrap_probabilites['diagnosis'] == 'other', 'diagnosis'] = 'Other Gynecological Pathology'\n",
    "\n",
    "bootstrap_probabilites = bootstrap_probabilites.sort_values(by='sort_key')\n",
    "\n",
    "g = sns.catplot(x=\"rr\", y=\"diagnosis\", data=bootstrap_probabilites, kind=\"point\",  \n",
    "                join=False, ci=95, errwidth=1.5, capsize=0.2, color='black', height=7, aspect=2, scale=0.7)\n",
    "plt.axvline(x=1, color=\"black\", linestyle='dashed')\n",
    "g.set_xlabels(\"Relative Risk of Subfertility\", fontsize=20)\n",
    "g.set_ylabels(\"\")\n",
    "plt.savefig('../results/sensitivity_analyses/subfertility_RR.png', bbox_inches='tight', dpi=300)\n",
    "plt.show()"
   ]
  },
  {
   "cell_type": "code",
   "execution_count": null,
   "metadata": {},
   "outputs": [],
   "source": []
  }
 ],
 "metadata": {
  "kernelspec": {
   "display_name": "Python 3",
   "language": "python",
   "name": "python3"
  },
  "language_info": {
   "codemirror_mode": {
    "name": "ipython",
    "version": 3
   },
   "file_extension": ".py",
   "mimetype": "text/x-python",
   "name": "python",
   "nbconvert_exporter": "python",
   "pygments_lexer": "ipython3",
   "version": "3.8.3"
  }
 },
 "nbformat": 4,
 "nbformat_minor": 4
}
